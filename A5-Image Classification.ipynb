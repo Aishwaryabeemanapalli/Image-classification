{
 "cells": [
  {
   "cell_type": "code",
   "execution_count": 10,
   "metadata": {},
   "outputs": [
    {
     "name": "stdout",
     "output_type": "stream",
     "text": [
      "[0.2647862205478914, 0.2946128831876114, 0.24749944089149414, 0.2317126103798501, 0.2156491053354232, 0.2638719030231327, 0.1374953806468185, 0.26438328280357887]\n"
     ]
    },
    {
     "data": {
      "image/png": "[encoded data removed]",
      "text/plain": [
       "<Figure size 432x288 with 1 Axes>"
      ]
     },
     "metadata": {
      "needs_background": "light"
     },
     "output_type": "display_data"
    }
   ],
   "source": [
    "import matplotlib.pyplot as plt\n",
    "import matplotlib.image as mpimg\n",
    "import numpy as np\n",
    "from PIL import Image\n",
    "images = ['farm1.jpg', 'farm2.jpg', 'farm3.jpg', 'farm4.jpg', 'farm5.jpg', 'farm6.jpg', 'farm7.jpg', 'farm8.jpg', 'city1.jpg', 'city2.jpg', 'city3.jpg', 'city4.jpg', 'city5.jpg', 'city6.jpg', 'city7.jpg', 'city8.jpg', 'desert1.jpg', 'desert2.jpg', 'desert3.jpg', 'desert4.jpg', 'desert5.jpg', 'desert6.jpg', 'desert7.jpg', 'desert8.jpg'] \n",
    "farm_green = [] \n",
    "farm_blue = [] \n",
    "city_green = [] \n",
    "city_blue = [] \n",
    "desert_green = [] \n",
    "desert_blue = [] \n",
    "\n",
    "for image in images[:8]: \n",
    "    img = mpimg.imread(image) \n",
    "    RGBtuple = np.array(img).mean(axis=(0,1)) \n",
    "    averageRed = RGBtuple[0] \n",
    "    averageGreen = RGBtuple[1] \n",
    "    averageBlue = RGBtuple[2] \n",
    "    sumColor = averageRed+averageGreen+averageBlue  \n",
    "    percent_green = averageGreen/sumColor \n",
    "    percent_blue = averageBlue/sumColor \n",
    "    farm_green.append(percent_green) \n",
    "    farm_blue.append(percent_blue) \n",
    "for image in images[8:16]: \n",
    "    img = mpimg.imread(image) \n",
    "    RGBtuple = np.array(img).mean(axis=(0,1)) \n",
    "    averageRed = RGBtuple[0] \n",
    "    averageGreen = RGBtuple[1] \n",
    "    averageBlue = RGBtuple[2] \n",
    "    sumColor = averageRed+averageGreen+averageBlue  \n",
    "    percent_green = averageGreen/sumColor \n",
    "    percent_blue = averageBlue/sumColor \n",
    "    city_green.append(percent_green) \n",
    "    city_blue.append(percent_blue) \n",
    "for image in images[16:]: \n",
    "    img = mpimg.imread(image) \n",
    "    RGBtuple = np.array(img).mean(axis=(0,1)) \n",
    "    averageRed = RGBtuple[0] \n",
    "    averageGreen = RGBtuple[1] \n",
    "    averageBlue = RGBtuple[2] \n",
    "    sumColor = averageRed+averageGreen+averageBlue  \n",
    "    percent_green = averageGreen/sumColor \n",
    "    percent_blue = averageBlue/sumColor \n",
    "    desert_green.append(percent_green) \n",
    "    desert_blue.append(percent_blue) \n",
    "print(desert_blue)\n",
    " \n",
    "plt.scatter(farm_green, farm_blue, s=100, facecolors ='red', edgecolors='black', alpha=0.5) \n",
    "plt.scatter(city_green, city_blue, s=100, facecolors ='blue', edgecolors='black', alpha=0.5) \n",
    "plt.scatter(desert_green, desert_blue, s=100, facecolors ='yellow', edgecolors='black', alpha=0.5) \n",
    "plt.xlabel('Percentage of green') \n",
    "plt.ylabel('Percentage of blue') \n",
    "plt.title('Farm, city and desert training images') \n",
    "plt.legend(['Farm','City','Desert']) \n",
    "plt.show() \n"
   ]
  },
  {
   "cell_type": "code",
   "execution_count": 12,
   "metadata": {},
   "outputs": [
    {
     "name": "stdout",
     "output_type": "stream",
     "text": [
      "[0.38537916 0.27250258]\n",
      "[0.38947877 0.2416675 ]\n",
      "[0.37176749 0.2923693 ]\n",
      "[0.38534941 0.25567274]\n",
      "[0.38368854 0.26974449]\n",
      "[0.37822351 0.34243724]\n",
      "[0.35577841 0.26138973]\n",
      "[0.36318264 0.32079251]\n",
      "[0.33384679 0.33987008]\n",
      "[0.31457989 0.31740955]\n",
      "[0.32982159 0.30761097]\n",
      "[0.33021422 0.40329483]\n",
      "[0.31267745 0.37068047]\n",
      "[0.3620055  0.35922372]\n",
      "[0.33263931 0.28122414]\n",
      "[0.33155648 0.31387494]\n",
      "[0.28899154 0.26478622]\n",
      "[0.32887465 0.29461288]\n",
      "[0.32171351 0.24749944]\n",
      "[0.35209261 0.23171261]\n",
      "[0.32718513 0.21564911]\n",
      "[0.33655681 0.2638719 ]\n",
      "[0.34419192 0.13749538]\n",
      "[0.32732039 0.26438328]\n"
     ]
    },
    {
     "data": {
      "text/plain": [
       "KNeighborsClassifier(n_neighbors=1, weights='distance')"
      ]
     },
     "execution_count": 12,
     "metadata": {},
     "output_type": "execute_result"
    }
   ],
   "source": [
    "training_target = ['farm', 'farm', 'farm', 'farm','farm', 'farm', 'farm', 'farm','city', 'city', 'city', 'city','city', 'city', 'city', 'city','desert', 'desert', 'desert', 'desert','desert', 'desert', 'desert', 'desert']\n",
    "training_data = np.zeros((24,2))\n",
    "for i in range(8):\n",
    "    training_data[i,0] = farm_green[i]\n",
    "    training_data[8+i,0] = city_green[i]\n",
    "    training_data[16+i,0] = desert_green[i]\n",
    "    training_data[i,1] = farm_blue[i]\n",
    "    training_data[8+i,1] = city_blue[i]\n",
    "    training_data[16+i,1] = desert_blue[i]\n",
    "for i in training_data:\n",
    "    print(i)\n",
    "from sklearn import neighbors\n",
    "k1 = neighbors.KNeighborsClassifier(1,weights='distance')\n",
    "k1.fit(training_data,training_target)"
   ]
  },
  {
   "cell_type": "code",
   "execution_count": 15,
   "metadata": {},
   "outputs": [
    {
     "name": "stdout",
     "output_type": "stream",
     "text": [
      "[0.3269592  0.32688513]\n",
      "[0.33429384 0.17936789]\n",
      "[0.35004008 0.24578861]\n",
      "PREDICTION: ['city' 'desert' 'desert']\n",
      "ACTUAL: city, desert, farm\n"
     ]
    }
   ],
   "source": [
    "test = ['test1.jpg','test2.jpg','test3.jpg']\n",
    "test_green = []\n",
    "test_blue = []\n",
    "for image in test:\n",
    "    img = mpimg.imread(image)\n",
    "    RGBtuple = np.array(img).mean(axis=(0,1))\n",
    "    averageRed = RGBtuple[0]\n",
    "    averageGreen = RGBtuple[1]\n",
    "    averageBlue = RGBtuple[2]\n",
    "    sumColor = averageRed+averageGreen+averageBlue\n",
    "    percent_green = averageGreen/sumColor\n",
    "    percent_blue = averageBlue/sumColor\n",
    "    test_green.append(percent_green)\n",
    "    test_blue.append(percent_blue)\n",
    "    test_data = np.zeros((3,2))\n",
    "for i in range(3):\n",
    "    test_data[i,0] = test_green[i]\n",
    "    test_data[i,1] = test_blue[i]\n",
    "for i in test_data:\n",
    "    print(i) \n",
    "k1_pred = k1.predict(test_data)\n",
    "print(\"PREDICTION:\", k1_pred)\n",
    "print(\"ACTUAL:\",\"city, desert, farm\")\n",
    "\n",
    "\n",
    "# Incorrect prediction of the last file as 'desert' instead of 'farm' because it has very similar blue and green ratio with typical desert images.\n",
    "# This might be due to the RGB classifier being too crude to work across all categories, or maybe due to us ignoring the 'red' value in the classifier.\n"
   ]
  },
  {
   "cell_type": "code",
   "execution_count": null,
   "metadata": {},
   "outputs": [],
   "source": []
  }
 ],
 "metadata": {
  "kernelspec": {
   "display_name": "Python 3",
   "language": "python",
   "name": "python3"
  },
  "language_info": {
   "codemirror_mode": {
    "name": "ipython",
    "version": 3
   },
   "file_extension": ".py",
   "mimetype": "text/x-python",
   "name": "python",
   "nbconvert_exporter": "python",
   "pygments_lexer": "ipython3",
   "version": "3.8.5"
  }
 },
 "nbformat": 4,
 "nbformat_minor": 4
}
